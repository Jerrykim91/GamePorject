{
 "cells": [
  {
   "cell_type": "markdown",
   "metadata": {},
   "source": [
    "### CSV : site1116.csv \n",
    "    - 3 차 맵\n",
    "    - 픽셀 값 조정 \n",
    "    - 맵 디자인 조정 \n",
    "    - 보상 위치 생성 "
   ]
  },
  {
   "cell_type": "markdown",
   "metadata": {},
   "source": [
    "### load : 0  , unload = 1 , \n",
    "### home_ in : 4  , home_out : 5 , home point = 9\n",
    "### M_in : 6  , M _out : 7\n",
    "### check point1 = 8"
   ]
  },
  {
   "cell_type": "markdown",
   "metadata": {},
   "source": [
    "1 = 직진    \n",
    "2 = 오른쪽     \n",
    "3 = 왼쪽     \n",
    "4 =     \n",
    "<중요>    \n",
    "5 = 홈 in    \n",
    "6 = 홈 out    \n",
    "7 = 머신 in     \n",
    "8 = 머신 out     \n",
    "\n",
    "9\n"
   ]
  },
  {
   "cell_type": "code",
   "execution_count": 21,
   "metadata": {},
   "outputs": [],
   "source": [
    "import pandas as pd \n",
    "import numpy as np \n",
    "\n",
    "from pandas import DataFrame, Series"
   ]
  },
  {
   "cell_type": "code",
   "execution_count": 22,
   "metadata": {
    "scrolled": true
   },
   "outputs": [
    {
     "data": {
      "text/plain": [
       "(array([[0, 0, 0, ..., 0, 0, 0],\n",
       "        [0, 0, 0, ..., 0, 0, 0],\n",
       "        [0, 0, 0, ..., 0, 0, 0],\n",
       "        ...,\n",
       "        [0, 0, 0, ..., 0, 0, 0],\n",
       "        [0, 0, 0, ..., 0, 0, 0],\n",
       "        [0, 0, 0, ..., 0, 0, 0]]), (500, 600), dtype('int32'))"
      ]
     },
     "execution_count": 22,
     "metadata": {},
     "output_type": "execute_result"
    }
   ],
   "source": [
    "df = np.zeros(( 500, 600 ),int)\n",
    "df, df.shape,df.dtype"
   ]
  },
  {
   "cell_type": "code",
   "execution_count": 23,
   "metadata": {},
   "outputs": [],
   "source": [
    "# df"
   ]
  },
  {
   "cell_type": "markdown",
   "metadata": {},
   "source": [
    "#### home\n",
    " - home\n",
    " size = 15*\\30\n",
    "     - home1_in  : 4\n",
    "     - home2_out : 5\n",
    "     "
   ]
  },
  {
   "cell_type": "code",
   "execution_count": 24,
   "metadata": {},
   "outputs": [],
   "source": [
    "#Load back side \n",
    "# 벽에서 로드 첫 좌표까지 \n",
    "# 위\n",
    "df[0:(0+20), :] = 2\n",
    "#왼쪽 벽\n",
    "df[20:(500-10), :10] = 2\n",
    "# 오른쪽\n",
    "df[20:500-10, 600-10:] = 2\n",
    "# 아래\n",
    "df[(500-10):, :] = 2"
   ]
  },
  {
   "cell_type": "code",
   "execution_count": 25,
   "metadata": {},
   "outputs": [],
   "source": [
    "#  home1그리기(확인중)\n",
    "df[0:(0+30), 90-20:(90+20)] = 3\n",
    "df[0:(0+30),220-20:(220+20)] =3\n",
    "\n",
    "#home2\n",
    "df[0:(0+30), 350-20:(350+20)] = 4\n",
    "df[0:(0+30), 490-20:(490+20)] = 4"
   ]
  },
  {
   "cell_type": "code",
   "execution_count": 26,
   "metadata": {},
   "outputs": [],
   "source": [
    "#Load back side \n",
    "# 홈로드 \n",
    "df[30:(30+30), 90-10:(90+10)] = 1\n",
    "df[30:(30+30), 220-10:(220+10)] = 1\n",
    "df[30:(30+30), 350-10:(350+10)] = 1\n",
    "df[30:(30+30), 490-10:(490+10)] = 1"
   ]
  },
  {
   "cell_type": "code",
   "execution_count": 27,
   "metadata": {},
   "outputs": [],
   "source": [
    "# 보상구간\n",
    "#  home1_in 그리기\n",
    "df[10:(0+30), 90-10 :(90+10)] = 0\n",
    "df[10:(0+30), 220-10:(220+10)] = 0\n",
    "\n",
    "#home2_out그리기\n",
    "df[10:(0+30), 350-10:(350+10)] = 0\n",
    "df[10:(0+30), 490-10:(490+10)] = 0"
   ]
  },
  {
   "cell_type": "code",
   "execution_count": 28,
   "metadata": {},
   "outputs": [],
   "source": [
    "dataframe = pd.DataFrame( df )\n",
    "dataframe.to_csv( \"./data/site1115.csv\", header = True, index = False )"
   ]
  },
  {
   "cell_type": "code",
   "execution_count": 29,
   "metadata": {
    "scrolled": true
   },
   "outputs": [],
   "source": [
    "data = pd.read_csv('./data/site1115.csv')\n",
    "# data"
   ]
  },
  {
   "cell_type": "code",
   "execution_count": 30,
   "metadata": {
    "scrolled": true
   },
   "outputs": [],
   "source": [
    "#  data"
   ]
  },
  {
   "cell_type": "code",
   "execution_count": 31,
   "metadata": {},
   "outputs": [],
   "source": [
    "# 큰 사각형\n",
    "df[50:(50+80), 10:590]= 1\n",
    "#  작은 사각형 \n",
    "df[70:(70+40), 20+10:(590-20)] = 0"
   ]
  },
  {
   "cell_type": "code",
   "execution_count": 32,
   "metadata": {},
   "outputs": [],
   "source": [
    "# Load back side \n",
    "# 벽에서 로드 첫 좌표까지 \n",
    "df[280+10:(280+30), 40:560] = 1\n",
    "df[450+20:(470+20), 40:560] = 1"
   ]
  },
  {
   "cell_type": "markdown",
   "metadata": {},
   "source": [
    "### 기계"
   ]
  },
  {
   "cell_type": "code",
   "execution_count": 33,
   "metadata": {},
   "outputs": [],
   "source": [
    "# Load back side (확인중)\n",
    "\n",
    "df[160-30:(160), 80:(80+20)] = 1\n",
    "df[160-30:(160), 220:(220+20)] = 1\n",
    "df[160-30:(160), 360:(360+20)] = 1\n",
    "df[160-30:(160), 500:(500+20)] = 1"
   ]
  },
  {
   "cell_type": "code",
   "execution_count": 34,
   "metadata": {},
   "outputs": [],
   "source": [
    "#Load back side \n",
    "# 확인중 _ ing \n",
    "df[330-60:(330), 80:(80+20)] = 1\n",
    "df[330-60:(330), 220:(220+20)] = 1\n",
    "df[330-60:(330), 360:(360+20)] = 1\n",
    "df[330-60:(330), 500:(500+20)] = 1\n",
    "# \n",
    "df[450:(450+30), 80:(80+20)] = 1\n",
    "df[450:(450+30), 220:(220+20)] = 1\n",
    "df[450:(450+30), 360:(360+20)] = 1\n",
    "df[450:(450+30), 500:(500+20)] = 1"
   ]
  },
  {
   "cell_type": "code",
   "execution_count": 35,
   "metadata": {},
   "outputs": [],
   "source": [
    "#Load center side \n",
    "# 확인중 _ ing \n",
    "\n",
    "df[130:(500-10), 150:(150+20)] = 1\n",
    "df[130:(500-10), 290:(290+20)] = 1\n",
    "df[130:(500-10), 430:(430+20)] = 1"
   ]
  },
  {
   "cell_type": "code",
   "execution_count": 36,
   "metadata": {},
   "outputs": [],
   "source": [
    "# 기계 area1 \n",
    "df[150:(150+120), 40:(40+100)] = 6\n",
    "# 기계 area1-1   \n",
    "df[150:(150+120), 180:(180+100)] = 6\n",
    "# 기계 area1 \n",
    "df[150:(150+120), 320:(320+100)] = 6\n",
    "# 기계 area1-1   \n",
    "df[150:(150+120), 460:(460+100)] = 6\n",
    "\n",
    "# 기계 area 2-1\n",
    "df[330:(330+120), 40:(40+100)] = 6\n",
    "# 기계 area 2-2\n",
    "df[330:(330+120), 180:(180+100)] = 6\n",
    "# 기계 area 2-3\n",
    "df[330:(330+120), 320:(320+100)] = 6\n",
    "# 기계 area 2-4\n",
    "df[330:(330+120), 460:(460+100)] = 6"
   ]
  },
  {
   "cell_type": "code",
   "execution_count": 37,
   "metadata": {},
   "outputs": [],
   "source": [
    "# 보상구간\n",
    "\n",
    "df[150:(150+20), 80:(80+20)] = 0\n",
    "df[150:(150+20), 220:(220+20)] = 0\n",
    "df[150:(150+20), 360:(360+20)] = 0\n",
    "df[150:(150+20), 500:(500+20)] = 0\n",
    "\n",
    "df[250:(250+20), 80:(80+20)] = 0\n",
    "df[250:(250+20), 220:(220+20)] = 0\n",
    "df[250:(250+20), 360:(360+20)] = 0\n",
    "df[250:(250+20), 500:(500+20)] = 0\n",
    "\n",
    "#  area 2 그리기\n",
    "df[330:(330+20), 80:(80+20)] = 0\n",
    "df[330:(330+20), 220:(220+20)] = 0\n",
    "df[330:(330+20), 360:(360+20)] = 0\n",
    "df[330:(330+20), 500:(500+20)] = 0\n",
    "\n",
    "df[450-20:(450), 80:(80+20)] = 0\n",
    "df[450-20:(450), 220:(220+20)] = 0\n",
    "df[450-20:(450), 360:(360+20)] = 0\n",
    "df[450-20:(450), 500:(500+20)] = 0"
   ]
  },
  {
   "cell_type": "code",
   "execution_count": 38,
   "metadata": {},
   "outputs": [
    {
     "data": {
      "text/plain": [
       "(array([[2, 2, 2, ..., 2, 2, 2],\n",
       "        [2, 2, 2, ..., 2, 2, 2],\n",
       "        [2, 2, 2, ..., 2, 2, 2],\n",
       "        ...,\n",
       "        [2, 2, 2, ..., 2, 2, 2],\n",
       "        [2, 2, 2, ..., 2, 2, 2],\n",
       "        [2, 2, 2, ..., 2, 2, 2]]), (500, 600))"
      ]
     },
     "execution_count": 38,
     "metadata": {},
     "output_type": "execute_result"
    }
   ],
   "source": [
    "a = df[:,:]\n",
    "a,a.shape"
   ]
  },
  {
   "cell_type": "code",
   "execution_count": 39,
   "metadata": {},
   "outputs": [
    {
     "data": {
      "text/plain": [
       "{0: 270200, 1: 2400, 2: 24200, 3: 1600, 4: 1600}"
      ]
     },
     "execution_count": 39,
     "metadata": {},
     "output_type": "execute_result"
    }
   ],
   "source": [
    "# 배열의 고유한 요소를 찾음 =>  각수자의 개수를 알려줌 \n",
    "unique, counts = np.unique(data, return_counts= True)\n",
    "dict(zip(unique, counts))"
   ]
  },
  {
   "cell_type": "code",
   "execution_count": 40,
   "metadata": {},
   "outputs": [],
   "source": [
    "dataframe = pd.DataFrame( df )\n",
    "dataframe.to_csv( \"./data/site1115.csv\",header = True, index = False )"
   ]
  }
 ],
 "metadata": {
  "kernelspec": {
   "display_name": "Python 3",
   "language": "python",
   "name": "python3"
  },
  "language_info": {
   "codemirror_mode": {
    "name": "ipython",
    "version": 3
   },
   "file_extension": ".py",
   "mimetype": "text/x-python",
   "name": "python",
   "nbconvert_exporter": "python",
   "pygments_lexer": "ipython3",
   "version": "3.6.5"
  }
 },
 "nbformat": 4,
 "nbformat_minor": 2
}
