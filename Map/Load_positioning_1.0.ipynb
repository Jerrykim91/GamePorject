{
 "cells": [
  {
   "cell_type": "markdown",
   "metadata": {},
   "source": [
    "### CSV : Load1116.csv \n",
    "    -  버전 1.0\n",
    "    -  길 넘버링 \n",
    "    -  보상 넘버링"
   ]
  },
  {
   "cell_type": "markdown",
   "metadata": {},
   "source": [
    "\n",
    "---\n",
    "1 = 직진    \n",
    "2 = 오른쪽     \n",
    "3 = 왼쪽     \n",
    "4 =     \n",
    "\n",
    "<중요>    \n",
    "5 = 홈 in 보상      \n",
    "6 = 홈 out 보상     \n",
    "7 = 머신 in 보상     \n",
    "8 = 머신 out 보상         \n",
    "\n",
    "9"
   ]
  },
  {
   "cell_type": "code",
   "execution_count": 23,
   "metadata": {},
   "outputs": [],
   "source": [
    "import pandas as pd \n",
    "import numpy as np \n",
    "from pandas import DataFrame, Series"
   ]
  },
  {
   "cell_type": "code",
   "execution_count": 24,
   "metadata": {
    "scrolled": true
   },
   "outputs": [
    {
     "data": {
      "text/plain": [
       "(array([[0, 0, 0, ..., 0, 0, 0],\n",
       "        [0, 0, 0, ..., 0, 0, 0],\n",
       "        [0, 0, 0, ..., 0, 0, 0],\n",
       "        ...,\n",
       "        [0, 0, 0, ..., 0, 0, 0],\n",
       "        [0, 0, 0, ..., 0, 0, 0],\n",
       "        [0, 0, 0, ..., 0, 0, 0]]), (500, 600), dtype('int32'))"
      ]
     },
     "execution_count": 24,
     "metadata": {},
     "output_type": "execute_result"
    }
   ],
   "source": [
    "df = np.zeros(( 500, 600 ),int)\n",
    "df, df.shape,df.dtype"
   ]
  },
  {
   "cell_type": "code",
   "execution_count": 25,
   "metadata": {},
   "outputs": [],
   "source": [
    "#Load back side \n",
    "# 홈로드 \n",
    "df[30:(30+30), 90-10:(90+10)] = 1\n",
    "df[30:(30+30), 220-10:(220+10)] = 1\n",
    "df[30:(30+30), 350-10:(350+10)] = 1\n",
    "df[30:(30+30), 490-10:(490+10)] = 1"
   ]
  },
  {
   "cell_type": "code",
   "execution_count": 26,
   "metadata": {},
   "outputs": [],
   "source": [
    "# 보상구간\n",
    "# 5 = 홈 in 보상      \n",
    "# 6 = 홈 out 보상 \n",
    "\n",
    "#  home1_in 그리기 // 5 = 홈 in 보상  \n",
    "df[10:(0+30), 90-10 :(90+10)] = 5\n",
    "df[10:(0+30), 220-10:(220+10)] = 5\n",
    "\n",
    "#home2_out그리기// 6 = 홈 out 보상 \n",
    "df[10:(0+30), 350-10:(350+10)] = 6\n",
    "df[10:(0+30), 490-10:(490+10)] = 6"
   ]
  },
  {
   "cell_type": "code",
   "execution_count": 27,
   "metadata": {},
   "outputs": [],
   "source": [
    "dataframe = pd.DataFrame( df )\n",
    "dataframe.to_csv( \"./data/Load1116.csv\", header = True, index = False )"
   ]
  },
  {
   "cell_type": "code",
   "execution_count": 28,
   "metadata": {},
   "outputs": [],
   "source": [
    "data = pd.read_csv('./data/Load1116.csv')"
   ]
  },
  {
   "cell_type": "code",
   "execution_count": 29,
   "metadata": {},
   "outputs": [],
   "source": [
    "# 큰 사각형\n",
    "df[50:(50+80), 10:590]= 1\n",
    "#  작은 사각형 \n",
    "df[70:(70+40), 20+10:(590-20)] = 0"
   ]
  },
  {
   "cell_type": "code",
   "execution_count": 30,
   "metadata": {},
   "outputs": [],
   "source": [
    "# 코너 (왼쪽)\n",
    "df[50:(50+20), 90-10:(90+10)] = 2\n",
    "df[50:(50+20), 220-10:(220+10)] = 2\n",
    "df[50:(50+20), 350-10:(350+10)] = 2\n",
    "df[50:(50+20), 490-10:(490+10)] = 2"
   ]
  },
  {
   "cell_type": "code",
   "execution_count": 31,
   "metadata": {},
   "outputs": [],
   "source": [
    "# Load back side \n",
    "# 벽에서 로드 첫 좌표까지 \n",
    "df[280+10:(280+30), 40:560] = 1\n",
    "df[450+20:(470+20), 40:560] = 1"
   ]
  },
  {
   "cell_type": "markdown",
   "metadata": {},
   "source": [
    "### 기계"
   ]
  },
  {
   "cell_type": "code",
   "execution_count": 32,
   "metadata": {},
   "outputs": [],
   "source": [
    "# Load back side\n",
    "\n",
    "df[160-30:(160), 80:(80+20)] = 1\n",
    "df[160-30:(160), 220:(220+20)] = 1\n",
    "df[160-30:(160), 360:(360+20)] = 1\n",
    "df[160-30:(160), 500:(500+20)] = 1"
   ]
  },
  {
   "cell_type": "code",
   "execution_count": 33,
   "metadata": {},
   "outputs": [],
   "source": [
    "# 코너 (왼쪽)\n",
    "df[110:(110+20), 80:(80+20)] = 2\n",
    "df[110:(110+20), 220:(220+20)] = 2\n",
    "df[110:(110+20), 360:(360+20)] = 2\n",
    "df[110:(110+20), 500:(500+20)] = 2"
   ]
  },
  {
   "cell_type": "code",
   "execution_count": 34,
   "metadata": {},
   "outputs": [],
   "source": [
    "#Load back side \n",
    "# 확인중 _ ing \n",
    "df[330-60:(330), 80:(80+20)] = 1\n",
    "df[330-60:(330), 220:(220+20)] = 1\n",
    "df[330-60:(330), 360:(360+20)] = 1\n",
    "df[330-60:(330), 500:(500+20)] = 1\n",
    "# \n",
    "df[450:(450+30), 80:(80+20)] = 1\n",
    "df[450:(450+30), 220:(220+20)] = 1\n",
    "df[450:(450+30), 360:(360+20)] = 1\n",
    "df[450:(450+30), 500:(500+20)] = 1"
   ]
  },
  {
   "cell_type": "code",
   "execution_count": 35,
   "metadata": {},
   "outputs": [],
   "source": [
    "# 회전\n",
    "df[310-20:310, 80:(80+20)] = 2\n",
    "df[310-20:310, 220:(220+20)] = 2\n",
    "df[310-20:310, 360:(360+20)] = 2\n",
    "df[310-20:310, 500:(500+20)] = 2"
   ]
  },
  {
   "cell_type": "code",
   "execution_count": 36,
   "metadata": {},
   "outputs": [],
   "source": [
    "#Load center side \n",
    "df[130:(500-10), 150:(150+20)] = 1\n",
    "df[130:(500-10), 290:(290+20)] = 1\n",
    "df[130:(500-10), 430:(430+20)] = 1"
   ]
  },
  {
   "cell_type": "code",
   "execution_count": 37,
   "metadata": {},
   "outputs": [],
   "source": [
    "# 코너\n",
    "df[110:130, 150:(150+20)] = 2\n",
    "df[110:130, 290:(290+20)] = 2 # 이중\n",
    "df[110:130, 430:(430+20)] = 2"
   ]
  },
  {
   "cell_type": "code",
   "execution_count": 38,
   "metadata": {},
   "outputs": [],
   "source": [
    "df[290:310, 150:(150+20)] = 2\n",
    "df[290:310, 290:(290+20)] = 2\n",
    "df[290:310, 430:(430+20)] = 2"
   ]
  },
  {
   "cell_type": "code",
   "execution_count": 39,
   "metadata": {},
   "outputs": [],
   "source": [
    "# 회전 \n",
    "df[470:(500-10), 150:(150+20)] = 2\n",
    "df[470:(500-10), 290:(290+20)] = 2\n",
    "df[470:(500-10), 430:(430+20)] = 2"
   ]
  },
  {
   "cell_type": "code",
   "execution_count": 40,
   "metadata": {},
   "outputs": [],
   "source": [
    "# 보상구간\n",
    "# 7 = 머신 in 보상     \n",
    "# 8 = 머신 out 보상         \n",
    "\n",
    "\n",
    "df[150:(150+20), 80:(80+20)] = 7\n",
    "df[150:(150+20), 220:(220+20)] = 7\n",
    "df[150:(150+20), 360:(360+20)] = 7\n",
    "df[150:(150+20), 500:(500+20)] = 7\n",
    "\n",
    "df[250:(250+20), 80:(80+20)] = 8\n",
    "df[250:(250+20), 220:(220+20)] = 8\n",
    "df[250:(250+20), 360:(360+20)] = 8\n",
    "df[250:(250+20), 500:(500+20)] = 8\n",
    "\n",
    "# 7 = 머신 in 보상     \n",
    "# 8 = 머신 out 보상         \n",
    "\n",
    "#  area 2 그리기\n",
    "df[330:(330+20), 80:(80+20)] = 7\n",
    "df[330:(330+20), 220:(220+20)] = 7\n",
    "df[330:(330+20), 360:(360+20)] = 7\n",
    "df[330:(330+20), 500:(500+20)] = 7\n",
    "\n",
    "df[450-20:(450), 80:(80+20)] = 8\n",
    "df[450-20:(450), 220:(220+20)] = 8\n",
    "df[450-20:(450), 360:(360+20)] = 8\n",
    "df[450-20:(450), 500:(500+20)] = 8"
   ]
  },
  {
   "cell_type": "code",
   "execution_count": 41,
   "metadata": {},
   "outputs": [],
   "source": [
    "df[470:490, 80:(80+20)] = 2\n",
    "df[470:490, 220:(220+20)] = 2\n",
    "df[470:490, 360:(360+20)] = 2\n",
    "df[470:490, 500:(500+20)] = 2"
   ]
  },
  {
   "cell_type": "code",
   "execution_count": 42,
   "metadata": {},
   "outputs": [
    {
     "data": {
      "text/plain": [
       "(array([[0, 0, 0, ..., 0, 0, 0],\n",
       "        [0, 0, 0, ..., 0, 0, 0],\n",
       "        [0, 0, 0, ..., 0, 0, 0],\n",
       "        ...,\n",
       "        [0, 0, 0, ..., 0, 0, 0],\n",
       "        [0, 0, 0, ..., 0, 0, 0],\n",
       "        [0, 0, 0, ..., 0, 0, 0]]), (500, 600))"
      ]
     },
     "execution_count": 42,
     "metadata": {},
     "output_type": "execute_result"
    }
   ],
   "source": [
    "a = df[:,:]\n",
    "a,a.shape"
   ]
  },
  {
   "cell_type": "code",
   "execution_count": 43,
   "metadata": {},
   "outputs": [
    {
     "data": {
      "text/plain": [
       "{0: 296000, 1: 2400, 5: 800, 6: 800}"
      ]
     },
     "execution_count": 43,
     "metadata": {},
     "output_type": "execute_result"
    }
   ],
   "source": [
    "# 배열의 고유한 요소를 찾음 =>  각수자의 개수를 알려줌 \n",
    "unique, counts = np.unique(data, return_counts= True)\n",
    "dict(zip(unique, counts))"
   ]
  },
  {
   "cell_type": "code",
   "execution_count": 44,
   "metadata": {},
   "outputs": [],
   "source": [
    "dataframe = pd.DataFrame( df )\n",
    "dataframe.to_csv( \"./data/Load1116.csv\",header = True, index = False )"
   ]
  }
 ],
 "metadata": {
  "kernelspec": {
   "display_name": "Python 3",
   "language": "python",
   "name": "python3"
  },
  "language_info": {
   "codemirror_mode": {
    "name": "ipython",
    "version": 3
   },
   "file_extension": ".py",
   "mimetype": "text/x-python",
   "name": "python",
   "nbconvert_exporter": "python",
   "pygments_lexer": "ipython3",
   "version": "3.6.5"
  }
 },
 "nbformat": 4,
 "nbformat_minor": 2
}
