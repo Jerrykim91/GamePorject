{
 "cells": [
  {
   "cell_type": "markdown",
   "metadata": {},
   "source": [
    "### CSV : sitemin.csv\n",
    "    - 미니 버전 \n",
    "        400*300"
   ]
  },
  {
   "cell_type": "markdown",
   "metadata": {},
   "source": [
    "### load : 0  , load = 1 , caner = 2 , turn = 3\n",
    "### home_ in : 4  , home_out : 5 , home point = 9\n",
    "### M_in : 6  , M _out : 7\n",
    "### check point1 = 8"
   ]
  },
  {
   "cell_type": "code",
   "execution_count": 1,
   "metadata": {},
   "outputs": [],
   "source": [
    "import pandas as pd \n",
    "import numpy as np \n",
    "\n",
    "from pandas import DataFrame, Series"
   ]
  },
  {
   "cell_type": "code",
   "execution_count": 2,
   "metadata": {
    "scrolled": false
   },
   "outputs": [
    {
     "data": {
      "text/plain": [
       "(array([[0, 0, 0, ..., 0, 0, 0],\n",
       "        [0, 0, 0, ..., 0, 0, 0],\n",
       "        [0, 0, 0, ..., 0, 0, 0],\n",
       "        ...,\n",
       "        [0, 0, 0, ..., 0, 0, 0],\n",
       "        [0, 0, 0, ..., 0, 0, 0],\n",
       "        [0, 0, 0, ..., 0, 0, 0]]), (300, 400), dtype('int32'))"
      ]
     },
     "execution_count": 2,
     "metadata": {},
     "output_type": "execute_result"
    }
   ],
   "source": [
    "df = np.zeros(( 300, 400 ),int)\n",
    "df, df.shape,df.dtype"
   ]
  },
  {
   "cell_type": "code",
   "execution_count": 3,
   "metadata": {},
   "outputs": [
    {
     "data": {
      "text/plain": [
       "array([[0, 0, 0, ..., 0, 0, 0],\n",
       "       [0, 0, 0, ..., 0, 0, 0],\n",
       "       [0, 0, 0, ..., 0, 0, 0],\n",
       "       ...,\n",
       "       [0, 0, 0, ..., 0, 0, 0],\n",
       "       [0, 0, 0, ..., 0, 0, 0],\n",
       "       [0, 0, 0, ..., 0, 0, 0]])"
      ]
     },
     "execution_count": 3,
     "metadata": {},
     "output_type": "execute_result"
    }
   ],
   "source": [
    "df"
   ]
  },
  {
   "cell_type": "code",
   "execution_count": 4,
   "metadata": {},
   "outputs": [],
   "source": [
    "# #  home1_in 그리기\n",
    "# df[0:(0+30), 89-15:(89+15)] = 4\n",
    "# df[0:(0+30),224-15:(224+15)] = 4\n",
    "# #home2_out\n",
    "# df[0:(0+30), 359-15:(359+15)] = 5\n",
    "# df[0:(0+30), 494-15:(494+15)] = 5"
   ]
  },
  {
   "cell_type": "code",
   "execution_count": 5,
   "metadata": {},
   "outputs": [],
   "source": [
    "#Load back side \n",
    "# 벽에서 로드 첫 좌표까지 \n",
    "# 위\n",
    "df[0:(0+15), :] = 1\n",
    "#왼쪽 벽\n",
    "df[15:(300-15), :15] = 1\n",
    "# 오른쪽\n",
    "df[15:300-15, 400-15:] = 1\n",
    "# 아래\n",
    "df[(300-15):, :] = 1"
   ]
  },
  {
   "cell_type": "code",
   "execution_count": 6,
   "metadata": {},
   "outputs": [],
   "source": [
    "# 홈\n",
    "df[0:(0+15), 89:(89+15)] = 4"
   ]
  },
  {
   "cell_type": "code",
   "execution_count": 7,
   "metadata": {},
   "outputs": [],
   "source": [
    "df[0:(0+15),224+15:(224+15+15)] = 4"
   ]
  },
  {
   "cell_type": "code",
   "execution_count": 8,
   "metadata": {},
   "outputs": [],
   "source": [
    "dataframe = pd.DataFrame( df )\n",
    "dataframe.to_csv( \"./data/sitemin.csv\", header = True, index = False )"
   ]
  },
  {
   "cell_type": "code",
   "execution_count": 9,
   "metadata": {
    "scrolled": true
   },
   "outputs": [],
   "source": [
    "data = pd.read_csv('./data/sitemin.csv')\n",
    "# data"
   ]
  },
  {
   "cell_type": "markdown",
   "metadata": {},
   "source": [
    "### 기계"
   ]
  },
  {
   "cell_type": "code",
   "execution_count": 10,
   "metadata": {},
   "outputs": [],
   "source": [
    "# 기계 area1 \n",
    "df[80:(80+60), 50:(50+50)] = 6\n",
    "# 기계 area1-1   \n",
    "df[80:(80+60), 125:(125+50)] = 6\n",
    "df[80:(80+60), 200:(200+50)] = 6\n",
    "df[80:(80+60), 275:(275+50)] = 6\n",
    "# 기계 area 2-1\n",
    "df[180:(180+60),50:(50+50)] = 5\n",
    "df[180:(180+60),125:(125+50)] = 5\n",
    "# 기계 area 2-4\n",
    "df[180:(180+60),200:(200+50)] = 5\n",
    "df[180:(180+60),275:(275+50)] = 5"
   ]
  },
  {
   "cell_type": "code",
   "execution_count": 11,
   "metadata": {},
   "outputs": [
    {
     "data": {
      "text/plain": [
       "(array([[1, 1, 1, ..., 1, 1, 1],\n",
       "        [1, 1, 1, ..., 1, 1, 1],\n",
       "        [1, 1, 1, ..., 1, 1, 1],\n",
       "        ...,\n",
       "        [1, 1, 1, ..., 1, 1, 1],\n",
       "        [1, 1, 1, ..., 1, 1, 1],\n",
       "        [1, 1, 1, ..., 1, 1, 1]]), (300, 400))"
      ]
     },
     "execution_count": 11,
     "metadata": {},
     "output_type": "execute_result"
    }
   ],
   "source": [
    "a = df[:,:]\n",
    "a,a.shape"
   ]
  },
  {
   "cell_type": "code",
   "execution_count": 12,
   "metadata": {},
   "outputs": [
    {
     "data": {
      "text/plain": [
       "{0: 75900, 1: 19650, 4: 450, 5: 12000, 6: 12000}"
      ]
     },
     "execution_count": 12,
     "metadata": {},
     "output_type": "execute_result"
    }
   ],
   "source": [
    "# 배열의 고유한 요소를 찾음 =>  각수자의 개수를 알려줌 \n",
    "unique, counts = np.unique(a, return_counts= True)\n",
    "dict(zip(unique, counts))"
   ]
  },
  {
   "cell_type": "code",
   "execution_count": 13,
   "metadata": {},
   "outputs": [],
   "source": [
    "dataframe = pd.DataFrame( df )\n",
    "dataframe.to_csv( \"./data/sitemin.csv\",header = True, index = False )"
   ]
  },
  {
   "cell_type": "markdown",
   "metadata": {},
   "source": [
    "#  위치 설정 \n",
    "\n",
    " - home (in,out) : @2 \n",
    "     - home1_in  : \n",
    "     - home2_out :\n",
    "     \n",
    " - load\n",
    "     - 직진 \n",
    "     - 코너 \n",
    "     - 회전 \n",
    "     \n",
    " - Machine  \n",
    " >'ㄷ' 자로 만들어야해, 큰 사각형을 만들고 작은 사각형을 만들어야한다. \n",
    "     큰사각형 : 5\n",
    "     작은 사각형은 : 6 \n",
    "         - 정면 \n",
    "         - 후면 \n"
   ]
  }
 ],
 "metadata": {
  "kernelspec": {
   "display_name": "Python 3",
   "language": "python",
   "name": "python3"
  },
  "language_info": {
   "codemirror_mode": {
    "name": "ipython",
    "version": 3
   },
   "file_extension": ".py",
   "mimetype": "text/x-python",
   "name": "python",
   "nbconvert_exporter": "python",
   "pygments_lexer": "ipython3",
   "version": "3.6.5"
  }
 },
 "nbformat": 4,
 "nbformat_minor": 2
}
