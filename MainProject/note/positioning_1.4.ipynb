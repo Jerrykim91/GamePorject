{
 "cells": [
  {
   "cell_type": "markdown",
   "metadata": {},
   "source": [
    "### CSV : site1110.csv \n",
    "    - 2 차 맵"
   ]
  },
  {
   "cell_type": "markdown",
   "metadata": {},
   "source": [
    "### load : 0  , unload = 1 , \n",
    "### home_ in : 4  , home_out : 5 , home point = 9\n",
    "### M_in : 6  , M _out : 7\n",
    "### check point1 = 8"
   ]
  },
  {
   "cell_type": "code",
   "execution_count": 22,
   "metadata": {},
   "outputs": [],
   "source": [
    "import pandas as pd \n",
    "import numpy as np \n",
    "\n",
    "from pandas import DataFrame, Series"
   ]
  },
  {
   "cell_type": "code",
   "execution_count": 23,
   "metadata": {
    "scrolled": true
   },
   "outputs": [
    {
     "data": {
      "text/plain": [
       "(array([[0, 0, 0, ..., 0, 0, 0],\n",
       "        [0, 0, 0, ..., 0, 0, 0],\n",
       "        [0, 0, 0, ..., 0, 0, 0],\n",
       "        ...,\n",
       "        [0, 0, 0, ..., 0, 0, 0],\n",
       "        [0, 0, 0, ..., 0, 0, 0],\n",
       "        [0, 0, 0, ..., 0, 0, 0]]), (500, 600), dtype('int32'))"
      ]
     },
     "execution_count": 23,
     "metadata": {},
     "output_type": "execute_result"
    }
   ],
   "source": [
    "df = np.zeros(( 500, 600 ),int)\n",
    "df, df.shape,df.dtype"
   ]
  },
  {
   "cell_type": "code",
   "execution_count": 3,
   "metadata": {},
   "outputs": [
    {
     "data": {
      "text/plain": [
       "array([[0, 0, 0, ..., 0, 0, 0],\n",
       "       [0, 0, 0, ..., 0, 0, 0],\n",
       "       [0, 0, 0, ..., 0, 0, 0],\n",
       "       ...,\n",
       "       [0, 0, 0, ..., 0, 0, 0],\n",
       "       [0, 0, 0, ..., 0, 0, 0],\n",
       "       [0, 0, 0, ..., 0, 0, 0]])"
      ]
     },
     "execution_count": 3,
     "metadata": {},
     "output_type": "execute_result"
    }
   ],
   "source": [
    "df"
   ]
  },
  {
   "cell_type": "markdown",
   "metadata": {},
   "source": [
    "#### home\n",
    " - home\n",
    " size = 15*\\30\n",
    "     - home1_in  : 4\n",
    "     - home2_out : 5\n",
    "     "
   ]
  },
  {
   "cell_type": "code",
   "execution_count": 28,
   "metadata": {},
   "outputs": [],
   "source": [
    "#Load back side \n",
    "# 벽에서 로드 첫 좌표까지 \n",
    "# 위\n",
    "df[0:(0+30), :] = 1\n",
    "#왼쪽 벽\n",
    "df[30:(500-30), :15] = 1\n",
    "# 오른쪽\n",
    "df[30:500-30, 600-15:] = 1\n",
    "# 아래\n",
    "df[(500-30):, :] = 1"
   ]
  },
  {
   "cell_type": "code",
   "execution_count": 36,
   "metadata": {},
   "outputs": [],
   "source": [
    "#  home1_in 그리기\n",
    "df[0:(0+30), 89-15:(89+15)] = 4\n",
    "df[0:(0+30),224-15:(224+15)] = 4\n",
    "#home2_out\n",
    "df[0:(0+30), 359-15:(359+15)] = 5\n",
    "df[0:(0+30), 494-15:(494+15)] = 5"
   ]
  },
  {
   "cell_type": "code",
   "execution_count": 37,
   "metadata": {},
   "outputs": [],
   "source": [
    "dataframe = pd.DataFrame( df )\n",
    "dataframe.to_csv( \"./data/site1110.csv\", header = True, index = False )"
   ]
  },
  {
   "cell_type": "code",
   "execution_count": 19,
   "metadata": {
    "scrolled": true
   },
   "outputs": [],
   "source": [
    "data = pd.read_csv('./data/site1110.csv')\n",
    "# data"
   ]
  },
  {
   "cell_type": "markdown",
   "metadata": {},
   "source": [
    "#### 길\n",
    " - load\n",
    " size = \n",
    "     - 직진 : 1\n",
    "     - 코너 : 2\n",
    "     - 회전 : 3\n",
    "  - unload\n",
    "      - 벽: 0"
   ]
  },
  {
   "cell_type": "code",
   "execution_count": 8,
   "metadata": {},
   "outputs": [],
   "source": [
    "# # 큰 사각형\n",
    "# df[50:(50+80), 10:590]= 1\n",
    "# #  작은 사각형 \n",
    "# df[70:(70+40), 20+10:(590-20)] = 0"
   ]
  },
  {
   "cell_type": "code",
   "execution_count": 9,
   "metadata": {},
   "outputs": [],
   "source": [
    "#Load back side \n",
    "# 벽에서 로드 첫 좌표까지 \n",
    "# df[280+15:(295+20), 10:590] = 1\n",
    "# df[450+15:(465+20), 10:590] = 1"
   ]
  },
  {
   "cell_type": "markdown",
   "metadata": {},
   "source": [
    "### 기계"
   ]
  },
  {
   "cell_type": "code",
   "execution_count": 10,
   "metadata": {},
   "outputs": [],
   "source": [
    "#Load back side \n",
    "# \n",
    "# df[160-30:(160), 55+42:(55+42+16)] = 1\n",
    "# df[160-30:(160), 185+42:(185+42+16)] = 1\n",
    "# df[160-30:(160), 315+42:(315+42+16)] = 1\n",
    "# df[160-30:(160), 445+42:(445+42+16)] = 1"
   ]
  },
  {
   "cell_type": "code",
   "execution_count": 11,
   "metadata": {},
   "outputs": [],
   "source": [
    "#Load back side \n",
    "#  \n",
    "# df[330-60:(330), 55+42:(55+42+16)] = 1\n",
    "# df[330-60:(330), 185+42:(185+42+16)] = 1\n",
    "# df[330-60:(330), 315+42:(315+42+16)] = 1\n",
    "# df[330-60:(330), 445+42:(445+42+16)] = 1\n",
    "# # \n",
    "# df[450:(450+45), 55+42:(55+42+16)] = 1\n",
    "# df[450:(450+45), 185+42:(185+42+16)] = 1\n",
    "# df[450:(450+45), 315+42:(315+42+16)] = 1\n",
    "# df[450:(450+45), 445+42:(445+42+16)] = 1\n"
   ]
  },
  {
   "cell_type": "code",
   "execution_count": 38,
   "metadata": {},
   "outputs": [],
   "source": [
    "# 기계 area1 \n",
    "df[160:(160+120), 55:(55+100)] = 6\n",
    "# 기계 area1-1   \n",
    "df[160:(160+120), 185:(185+100)] = 6\n",
    "# 기계 area1 \n",
    "df[160:(160+120), 315:(315+100)] = 6\n",
    "# 기계 area1-1   \n",
    "df[160:(160+120), 445:(445+100)] = 6\n",
    "\n",
    "# 기계 area 2-1\n",
    "df[330:(330+120), 55:(55+100)] = 6\n",
    "# 기계 area 2-2\n",
    "df[330:(330+120), 185:(185+100)] = 6\n",
    "# 기계 area 2-3\n",
    "df[330:(330+120), 315:(315+100)] = 6\n",
    "# 기계 area 2-4\n",
    "df[330:(330+120), 445:(445+100)] = 6"
   ]
  },
  {
   "cell_type": "code",
   "execution_count": 13,
   "metadata": {},
   "outputs": [
    {
     "data": {
      "text/plain": [
       "(array([[0, 0, 0, ..., 0, 0, 0],\n",
       "        [0, 0, 0, ..., 0, 0, 0],\n",
       "        [0, 0, 0, ..., 0, 0, 0],\n",
       "        ...,\n",
       "        [0, 0, 0, ..., 0, 0, 0],\n",
       "        [0, 0, 0, ..., 0, 0, 0],\n",
       "        [0, 0, 0, ..., 0, 0, 0]]), (500, 600))"
      ]
     },
     "execution_count": 13,
     "metadata": {},
     "output_type": "execute_result"
    }
   ],
   "source": [
    "a = df[:,:]\n",
    "a,a.shape"
   ]
  },
  {
   "cell_type": "code",
   "execution_count": 14,
   "metadata": {},
   "outputs": [
    {
     "data": {
      "text/plain": [
       "{0: 294480, 1: 1920, 4: 1800, 5: 1800}"
      ]
     },
     "execution_count": 14,
     "metadata": {},
     "output_type": "execute_result"
    }
   ],
   "source": [
    "# 배열의 고유한 요소를 찾음 =>  각수자의 개수를 알려줌 \n",
    "unique, counts = np.unique(data, return_counts= True)\n",
    "dict(zip(unique, counts))"
   ]
  },
  {
   "cell_type": "code",
   "execution_count": 39,
   "metadata": {},
   "outputs": [],
   "source": [
    "dataframe = pd.DataFrame( df )\n",
    "dataframe.to_csv( \"./data/site1110.csv\",header = True, index = False )"
   ]
  },
  {
   "cell_type": "markdown",
   "metadata": {},
   "source": [
    "#  위치 설정 \n",
    "\n",
    " - home (in,out) : @2 \n",
    "     - home1_in  : \n",
    "     - home2_out :\n",
    "     \n",
    " - load\n",
    "     - 직진 \n",
    "     - 코너 \n",
    "     - 회전 \n",
    "     \n",
    " - Machine  \n",
    " >'ㄷ' 자로 만들어야해, 큰 사각형을 만들고 작은 사각형을 만들어야한다. \n",
    "     큰사각형 : 5\n",
    "     작은 사각형은 : 6 \n",
    "         - 정면 \n",
    "         - 후면 \n"
   ]
  }
 ],
 "metadata": {
  "kernelspec": {
   "display_name": "Python 3",
   "language": "python",
   "name": "python3"
  },
  "language_info": {
   "codemirror_mode": {
    "name": "ipython",
    "version": 3
   },
   "file_extension": ".py",
   "mimetype": "text/x-python",
   "name": "python",
   "nbconvert_exporter": "python",
   "pygments_lexer": "ipython3",
   "version": "3.6.5"
  }
 },
 "nbformat": 4,
 "nbformat_minor": 2
}
