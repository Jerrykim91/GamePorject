{
 "cells": [
  {
   "cell_type": "code",
   "execution_count": 1,
   "metadata": {},
   "outputs": [
    {
     "name": "stdout",
     "output_type": "stream",
     "text": [
      "pygame 1.9.6\n",
      "Hello from the pygame community. https://www.pygame.org/contribute.html\n"
     ]
    }
   ],
   "source": [
    "import pygame\n",
    "import sys, csv\n",
    "import numpy as np\n",
    "import pandas as pd\n",
    "from pygame.locals import QUIT\n",
    "# from Setup import *"
   ]
  },
  {
   "cell_type": "code",
   "execution_count": 2,
   "metadata": {},
   "outputs": [],
   "source": [
    "# 여러가지 색 // 0-255 ( R, B, G )\n",
    "RED    = 255, 0, 0       # 적색:   적 255, 녹   0, 청   0\n",
    "GREEN  = 0, 255, 0       # 녹색:   적   0, 녹 255, 청   0\n",
    "BLUE   = 0, 0, 255       # 청색:   적   0, 녹   0, 청 255\n",
    "PURPLE = 127, 0, 127     # 보라색: 적 127, 녹   0, 청 127\n",
    "BLACK  = 0, 0, 0         # 검은색: 적   0, 녹   0, 청   0\n",
    "GRAY   = 127, 127, 127   # 회색:   적 127, 녹 127, 청 127\n",
    "WHITE  = 255, 255, 255   # 하얀색: 적 255, 녹 255, 청 255"
   ]
  },
  {
   "cell_type": "code",
   "execution_count": 3,
   "metadata": {},
   "outputs": [],
   "source": [
    "# blockType\n",
    "LOAD  = 1 # 길\n",
    "WALL  = 0 # 벽\n",
    "HOME1  = 3 # in\n",
    "HOME2  = 4 # out\n",
    "\n",
    "# This sets the WIDTH and HEIGHT of each grid location\n",
    "WIDTH = 5\n",
    "HEIGHT = 5\n",
    "MARGIN = 1\n",
    "#위치값\n"
   ]
  },
  {
   "cell_type": "code",
   "execution_count": 7,
   "metadata": {},
   "outputs": [],
   "source": [
    "# WINDOW _ OPTION\n",
    "SCREEN_SIZE = [600,500]\n",
    "SCREEN_WIDTH  = 600\n",
    "SCREEN_HEIGHT = 500  # 창 너비 ,창 높이 600 * 500\n",
    "# pos = (0, 0)  # 좌표값 (y, x) 튜플이어야 함 block_position"
   ]
  },
  {
   "cell_type": "code",
   "execution_count": 9,
   "metadata": {},
   "outputs": [],
   "source": [
    "# 윈도우 생성\n",
    "Win = pygame.display.set_mode(WINDOW_SIZE)\n",
    "pygame.display.set_caption(\"Array Backed\")\n",
    "clock = pygame.time.Clock()"
   ]
  },
  {
   "cell_type": "code",
   "execution_count": 10,
   "metadata": {},
   "outputs": [],
   "source": [
    "# csv: 데이터 파일\n",
    "data = \"site1.csv\"\n",
    "Path ='./data/site1.csv'\n",
    "# 데이터 파일 오픈\n",
    "f = open(Path, \"r\")\n",
    "lines = csv.reader(f)"
   ]
  },
  {
   "cell_type": "code",
   "execution_count": 16,
   "metadata": {},
   "outputs": [
    {
     "data": {
      "text/plain": [
       "<_io.TextIOWrapper name='./data/site1.csv' mode='r' encoding='cp949'>"
      ]
     },
     "execution_count": 16,
     "metadata": {},
     "output_type": "execute_result"
    }
   ],
   "source": [
    "f"
   ]
  },
  {
   "cell_type": "code",
   "execution_count": null,
   "metadata": {},
   "outputs": [],
   "source": [
    "# csv_data = pd.read_csv('./data/site2.csv', delimiter=',')\n",
    "# print(csv_data[0][0])"
   ]
  },
  {
   "cell_type": "code",
   "execution_count": null,
   "metadata": {},
   "outputs": [],
   "source": [
    "grid = []\n",
    "for row in range(600):\n",
    "    #각 셀을 보유 할 빈 배열을 추가하십시오.\n",
    "    grid.append([])\n",
    "    for column in range(500):\n",
    "        grid[row].append(0)  "
   ]
  },
  {
   "cell_type": "code",
   "execution_count": null,
   "metadata": {},
   "outputs": [],
   "source": [
    "grid[1][5] = 1"
   ]
  },
  {
   "cell_type": "code",
   "execution_count": 8,
   "metadata": {
    "scrolled": false
   },
   "outputs": [
    {
     "data": {
      "text/plain": [
       "(6, 0)"
      ]
     },
     "execution_count": 8,
     "metadata": {},
     "output_type": "execute_result"
    }
   ],
   "source": [
    "pygame.init()"
   ]
  },
  {
   "cell_type": "code",
   "execution_count": null,
   "metadata": {},
   "outputs": [],
   "source": [
    "done = False\n",
    "# -------- 메인 프로그램 루프 -----------\n",
    "while not done:\n",
    "    for event in pygame.event.get():  \n",
    "        if event.type == QUIT: \n",
    "            done = True  \n",
    "        elif event.type == MOUSEBUTTONDOWN:\n",
    "            # 사용자가 마우스를 클릭 -> 위치를 얻음\n",
    "            pos = pygame.mouse.get_pos()\n",
    "            # x / y 화면 좌표를 그리드 좌표로 변경\n",
    "            column = pos[0] // (WIDTH + MARGIN)\n",
    "            row = pos[1] // (HEIGHT + MARGIN)\n",
    "            # 그 위치를 하나로 설정\n",
    "            grid[row][column] = 1\n",
    "            print(\"Click \", pos, \"Grid coordinates: \", row, column)\n",
    " "
   ]
  },
  {
   "cell_type": "code",
   "execution_count": null,
   "metadata": {},
   "outputs": [],
   "source": [
    "# 화면 배경 설정\n",
    "    screen.fill(WHITE)"
   ]
  },
  {
   "cell_type": "code",
   "execution_count": null,
   "metadata": {},
   "outputs": [],
   "source": [
    " # Draw the 그리드\n",
    "    for row in range(600):\n",
    "        for column in range(500):\n",
    "            color = WHITE\n",
    "            if grid[row][column] == 1:\n",
    "                color = GREEN\n",
    "            pygame.draw.rect(screen,\n",
    "                             color,\n",
    "                             [(MARGIN + WIDTH) * column + MARGIN,\n",
    "                              (MARGIN + HEIGHT) * row + MARGIN,\n",
    "                              WIDTH,\n",
    "                              HEIGHT])\n",
    " "
   ]
  },
  {
   "cell_type": "code",
   "execution_count": null,
   "metadata": {},
   "outputs": [],
   "source": [
    "    clock.tick(60)\n",
    " \n",
    "    pygame.display.flip()"
   ]
  },
  {
   "cell_type": "code",
   "execution_count": 11,
   "metadata": {},
   "outputs": [],
   "source": [
    "def main():\n",
    "Run = True\n",
    "while Run:\n",
    "    clock.tick(27)\n",
    "    for event in pygame.event.get():\n",
    "        if event.type == QUIT:\n",
    "                pygame.quit()\n",
    "                sys.exit()\n",
    "        Win.fill(WHITE)  # 흰색으로 화면을 채운다.\n",
    "        \n",
    "        # 그리기\n",
    "        with open(Path,'r', newline='') as lines: #, newline=''\n",
    "                # print(FIELDS)\n",
    "            for line in lines:\n",
    "                rect = (0, 0, SIZE, SIZE)\n",
    "                if LODE == \"1\":\n",
    "                    pygame.draw.rect(Win, BLACK, rect)\n",
    "                elif HOME == \"3\":\n",
    "                    pygame.draw.rect(Win, PURPLE, rect)\n",
    "                else:\n",
    "                    pygame.draw.rect(Win, WHITE, rect)\n",
    "\n",
    "                    pygame.display.update()\n",
    "                    FPSCLOCK.tick(3)"
   ]
  },
  {
   "cell_type": "code",
   "execution_count": null,
   "metadata": {},
   "outputs": [],
   "source": [
    "def main():\n",
    "\n",
    "    while True:\n",
    "        EVENTS = pygame.event.get()\n",
    "        for event in EVENTS:\n",
    "            if event.type == QUIT:\n",
    "                pygame.quit()\n",
    "                sys.exit()\n",
    "    Win.fill(WHITE)  # 흰색으로 화면을 채운다.\n",
    "\n",
    "# 파일에서 데이터를 한 라인씩 읽어와서 처리함\n",
    "for line in f.readlines():\n",
    "  # 라인: 0,1,1,0,0,1 과 같은 형태로 데이터가 저장되어 있음\n",
    "  blockList = line.split(\",\")\n",
    "   \n",
    "  # 라인별로 x좌표의 위치를 처음(orgX)로 이동\n",
    "  x = orgX\n",
    "\n",
    "  # 0은 빈 공간을 의미, 1은 블럭 한개를 의미\n",
    "  for row in blockList:\n",
    "      grid.append([])\n",
    "      for column in blockList:\n",
    "            grid[row].append(0)\n",
    "    if row == \"1\":\n",
    "      blockType = LOAD\n",
    "    else:\n",
    "      blockType = WALL\n",
    "    # 2개층으로 만듦 -> 동일한 x, z좌표에 y 좌표 2곳에 블럭 생성\n",
    "    blockType_R = pygame.draw.rect( win, x, orgY, blockType )\n",
    "    blockType_W = pygame.draw.rect( win, x, orgY + 1, blockType )\n",
    "    blockType_B = pygame.draw.rect( win, x, orgY + 1, blockType )\n",
    "\n",
    "# (win,(R,G,B),(x, y, width, height))\n",
    "    # rect = (x, y, width, height)\n",
    "    # pygame.draw.rect(Win, RED, rect)\n",
    "    # 바닥 블럭 생성\n",
    "    mc.setBlock(x, orgY - 1, z, FLOOR)\n",
    "     \n",
    "    x = x + 1\n",
    "  z = z + 1"
   ]
  },
  {
   "cell_type": "code",
   "execution_count": null,
   "metadata": {},
   "outputs": [],
   "source": [
    "# if __name__ == '__main__':\n",
    "#     main()"
   ]
  },
  {
   "cell_type": "code",
   "execution_count": null,
   "metadata": {},
   "outputs": [],
   "source": [
    " pygame.quit()"
   ]
  }
 ],
 "metadata": {
  "kernelspec": {
   "display_name": "Python 3",
   "language": "python",
   "name": "python3"
  },
  "language_info": {
   "codemirror_mode": {
    "name": "ipython",
    "version": 3
   },
   "file_extension": ".py",
   "mimetype": "text/x-python",
   "name": "python",
   "nbconvert_exporter": "python",
   "pygments_lexer": "ipython3",
   "version": "3.6.5"
  }
 },
 "nbformat": 4,
 "nbformat_minor": 2
}
