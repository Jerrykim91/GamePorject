{
 "cells": [
  {
   "cell_type": "code",
   "execution_count": null,
   "metadata": {},
   "outputs": [],
   "source": [
    "\"\"\"\n",
    "< 자연코드>\n",
    "\n",
    "1. csv 파일을 불러온다  \n",
    "2. csv 에서 데이터를 불러온다 \n",
    "    data = pd.read_csv( \".\\GameProject\\PPdata\\site1.csv\", sep=\",\", dtpye='unicode' )\n",
    "\n",
    "3. 데이터를 불러온것을 검사한다 \n",
    "    - 어떻게 ?  for 문이랑 데이터랑 조합할건데 ?? \n",
    "    데이터가 리드 되는 동안 \n",
    "        반복한다 data index 를 \n",
    "            반복한다 data columns를 \n",
    "            변수 초기화\n",
    "                만약에 1이 나오면 # \n",
    "                    검정색 사각형을 출력한다  \n",
    "                만약에 2이 나오면 \n",
    "                    초록색 사각형을 출력한다\n",
    "                만약에 3이 나오면 \n",
    "                    보라색 사각형을 출력한다\n",
    "                그외 :\n",
    "                    흰색을 출력한다.\n",
    "\n",
    "data = pd.read_csv( \".\\GameProject\\PPdata\\site1.csv\", sep=\",\", dtpye='unicode' )\n",
    "Win.fill(WHITE) \n",
    "\n",
    "     while data :\n",
    "        for index in data : \n",
    "            for columns in data :\n",
    "                x = 0\n",
    "                if x == 1:\n",
    "                    x1 = pygame.draw.rect(Win, BLACK, (x, y, width, height))\n",
    "                    print(x1)\n",
    "                elif x == 2:\n",
    "                    x2 = pygame.draw.rect(Win, GREEN, (x, y, width, height))\n",
    "                    print(x2)\n",
    "                elif x == 3:\n",
    "                    x3 = pygame.draw.rect(Win, PURPLE, (x, y, width, height))\n",
    "                    print(x3)\n",
    "                    else: \n",
    "                        x0 = pygame.draw.rect(Win, WHITE, (x, y, width, height))\n",
    "                    print(x0)\n",
    "\n",
    "        break\n",
    "4. 0,1,2,3 으로 분류 된 데이터가 있는 자리에 사각형을 그린다. \n",
    "\"\"\""
   ]
  },
  {
   "cell_type": "code",
   "execution_count": 7,
   "metadata": {},
   "outputs": [],
   "source": [
    "# import\n",
    "import pygame\n",
    "import sys\n",
    "import numpy as np\n",
    "import pandas as pd\n",
    "from pygame.locals import QUIT\n",
    "from Setting import *"
   ]
  },
  {
   "cell_type": "code",
   "execution_count": 2,
   "metadata": {},
   "outputs": [
    {
     "data": {
      "text/plain": [
       "(6, 0)"
      ]
     },
     "execution_count": 2,
     "metadata": {},
     "output_type": "execute_result"
    }
   ],
   "source": [
    "# init => 초기화\n",
    "pygame.init()"
   ]
  },
  {
   "cell_type": "code",
   "execution_count": 3,
   "metadata": {},
   "outputs": [],
   "source": [
    "# 변수 @ Setting"
   ]
  },
  {
   "cell_type": "code",
   "execution_count": 4,
   "metadata": {},
   "outputs": [],
   "source": [
    "# 윈도우 생성\n",
    "Win = pygame.display.set_mode((SCREEN_WIDTH, SCREEN_HEIGHT))\n",
    "FPSCLOCK = pygame.time.Clock()"
   ]
  },
  {
   "cell_type": "code",
   "execution_count": 5,
   "metadata": {},
   "outputs": [],
   "source": [
    "# 타이틀\n",
    "pygame.display.set_caption(\"Test Project\")"
   ]
  },
  {
   "cell_type": "code",
   "execution_count": 16,
   "metadata": {},
   "outputs": [],
   "source": [
    "#  데이터 불러오기 \n",
    "data = pd.read_csv( \"./data/site1.csv\", sep=\",\" )"
   ]
  },
  {
   "cell_type": "code",
   "execution_count": 23,
   "metadata": {},
   "outputs": [],
   "source": [
    "# data"
   ]
  },
  {
   "cell_type": "code",
   "execution_count": null,
   "metadata": {},
   "outputs": [],
   "source": [
    "a = df[:,:]\n",
    "a,a.shape"
   ]
  },
  {
   "cell_type": "code",
   "execution_count": 13,
   "metadata": {},
   "outputs": [],
   "source": [
    "def redrawGameWindow():\n",
    "    Win.fill(WHITE) \n",
    "    # (win,(R,G,B),(x, y, width, height))\n",
    "    rect = (x, y, width, height)\n",
    "    pygame.draw.rect(Win, RED, rect)\n",
    "    pygame.display.update()# 화면 갱신\n",
    "    FPSCLOCK.tick(5)"
   ]
  },
  {
   "cell_type": "code",
   "execution_count": 15,
   "metadata": {},
   "outputs": [
    {
     "ename": "SystemExit",
     "evalue": "",
     "output_type": "error",
     "traceback": [
      "An exception has occurred, use %tb to see the full traceback.\n",
      "\u001b[1;31mSystemExit\u001b[0m\n"
     ]
    },
    {
     "name": "stderr",
     "output_type": "stream",
     "text": [
      "C:\\Users\\sun41\\AppData\\Local\\Continuum\\anaconda3\\lib\\site-packages\\IPython\\core\\interactiveshell.py:2971: UserWarning: To exit: use 'exit', 'quit', or Ctrl-D.\n",
      "  warn(\"To exit: use 'exit', 'quit', or Ctrl-D.\", stacklevel=1)\n"
     ]
    }
   ],
   "source": [
    "# Run = True\n",
    "# while Run:\n",
    "    \n",
    "#     for event in pygame.event.get():\n",
    "#         if event.type == QUIT:\n",
    "#             pygame.quit()\n",
    "#             # Run = False\n",
    "#             sys.exit() # 종료"
   ]
  },
  {
   "cell_type": "code",
   "execution_count": 31,
   "metadata": {},
   "outputs": [
    {
     "ename": "error",
     "evalue": "video system not initialized",
     "output_type": "error",
     "traceback": [
      "\u001b[1;31m---------------------------------------------------------------------------\u001b[0m",
      "\u001b[1;31merror\u001b[0m                                     Traceback (most recent call last)",
      "\u001b[1;32m<ipython-input-31-b42a7681d464>\u001b[0m in \u001b[0;36m<module>\u001b[1;34m()\u001b[0m\n\u001b[0;32m      7\u001b[0m \u001b[1;32mwhile\u001b[0m \u001b[0mRun\u001b[0m\u001b[1;33m:\u001b[0m\u001b[1;33m\u001b[0m\u001b[0m\n\u001b[0;32m      8\u001b[0m \u001b[1;33m\u001b[0m\u001b[0m\n\u001b[1;32m----> 9\u001b[1;33m         \u001b[1;32mfor\u001b[0m \u001b[0mevent\u001b[0m \u001b[1;32min\u001b[0m \u001b[0mpygame\u001b[0m\u001b[1;33m.\u001b[0m\u001b[0mevent\u001b[0m\u001b[1;33m.\u001b[0m\u001b[0mget\u001b[0m\u001b[1;33m(\u001b[0m\u001b[1;33m)\u001b[0m\u001b[1;33m:\u001b[0m\u001b[1;33m\u001b[0m\u001b[0m\n\u001b[0m\u001b[0;32m     10\u001b[0m             \u001b[1;32mif\u001b[0m \u001b[0mevent\u001b[0m\u001b[1;33m.\u001b[0m\u001b[0mtype\u001b[0m \u001b[1;33m==\u001b[0m \u001b[0mQUIT\u001b[0m\u001b[1;33m:\u001b[0m\u001b[1;33m\u001b[0m\u001b[0m\n\u001b[0;32m     11\u001b[0m                 \u001b[0mpygame\u001b[0m\u001b[1;33m.\u001b[0m\u001b[0mquit\u001b[0m\u001b[1;33m(\u001b[0m\u001b[1;33m)\u001b[0m\u001b[1;33m\u001b[0m\u001b[0m\n",
      "\u001b[1;31merror\u001b[0m: video system not initialized"
     ]
    }
   ],
   "source": [
    "# 메인 함수 생성\n",
    "def main():\n",
    " \"\"\" main routine \"\"\"\n",
    "\n",
    "Run = True\n",
    "    # 이벤트 생성\n",
    "while Run:\n",
    "\n",
    "    for event in pygame.event.get():\n",
    "        if event.type == QUIT:\n",
    "            pygame.quit()\n",
    "            # Run = False\n",
    "            sys.exit() # 종료\n",
    "\n",
    "    for row in data : \n",
    "        for column in data :\n",
    "            \n",
    "            if x == 1:\n",
    "                x1 = pygame.draw.rect(Win, BLACK, (x, y, width, height))\n",
    "                print(x1)\n",
    "            elif x == 2:\n",
    "                x2 = pygame.draw.rect(Win, GREEN, (x, y, width, height))\n",
    "                print(x2)\n",
    "            elif x == 3:\n",
    "                x3 = pygame.draw.rect(Win, PURPLE, (x, y, width, height))\n",
    "                print(x3)\n",
    "            else: \n",
    "                x0 = pygame.draw.rect(Win, WHITE, (x, y, width, height))\n",
    "                print(x0)\n",
    "\n",
    "# (win,(R,G,B),(x, y, width, height)) _  사각형 만들기 (win,(R,G,B),(x좌표, y좌표, width, height))\n",
    "# pygame.draw.rect(Win, RED, (x, y, width, height),2)\n",
    "redrawGameWindow()"
   ]
  },
  {
   "cell_type": "code",
   "execution_count": null,
   "metadata": {},
   "outputs": [],
   "source": [
    "if __name__=='__main__':\n",
    "    main()"
   ]
  },
  {
   "cell_type": "code",
   "execution_count": null,
   "metadata": {},
   "outputs": [],
   "source": []
  },
  {
   "cell_type": "code",
   "execution_count": null,
   "metadata": {},
   "outputs": [],
   "source": []
  },
  {
   "cell_type": "code",
   "execution_count": null,
   "metadata": {},
   "outputs": [],
   "source": []
  },
  {
   "cell_type": "code",
   "execution_count": null,
   "metadata": {},
   "outputs": [],
   "source": []
  },
  {
   "cell_type": "code",
   "execution_count": null,
   "metadata": {},
   "outputs": [],
   "source": []
  },
  {
   "cell_type": "code",
   "execution_count": null,
   "metadata": {},
   "outputs": [],
   "source": []
  },
  {
   "cell_type": "code",
   "execution_count": null,
   "metadata": {},
   "outputs": [],
   "source": []
  },
  {
   "cell_type": "code",
   "execution_count": null,
   "metadata": {},
   "outputs": [],
   "source": []
  },
  {
   "cell_type": "code",
   "execution_count": null,
   "metadata": {},
   "outputs": [],
   "source": []
  },
  {
   "cell_type": "code",
   "execution_count": null,
   "metadata": {},
   "outputs": [],
   "source": []
  },
  {
   "cell_type": "code",
   "execution_count": null,
   "metadata": {},
   "outputs": [],
   "source": []
  },
  {
   "cell_type": "code",
   "execution_count": null,
   "metadata": {},
   "outputs": [],
   "source": []
  },
  {
   "cell_type": "code",
   "execution_count": null,
   "metadata": {},
   "outputs": [],
   "source": []
  }
 ],
 "metadata": {
  "kernelspec": {
   "display_name": "Python 3",
   "language": "python",
   "name": "python3"
  },
  "language_info": {
   "codemirror_mode": {
    "name": "ipython",
    "version": 3
   },
   "file_extension": ".py",
   "mimetype": "text/x-python",
   "name": "python",
   "nbconvert_exporter": "python",
   "pygments_lexer": "ipython3",
   "version": "3.6.5"
  }
 },
 "nbformat": 4,
 "nbformat_minor": 2
}
